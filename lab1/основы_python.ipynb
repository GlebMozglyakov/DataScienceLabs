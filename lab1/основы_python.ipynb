{
  "cells": [
    {
      "cell_type": "markdown",
      "metadata": {
        "id": "M-DGa20PaHnu"
      },
      "source": [
        "#Задача 1\n",
        "Написать функцию на вход которой подается строка, состоящая из латинских букв.\n",
        "Функция должна вернуть количество гласных букв (a, e, i, o, u) в этой строке. Написать тесты для кода"
      ]
    },
    {
      "cell_type": "code",
      "execution_count": 3,
      "metadata": {
        "id": "XvX8X_JJ6PCb"
      },
      "outputs": [
        {
          "name": "stdout",
          "output_type": "stream",
          "text": [
            "True\n",
            "True\n",
            "True\n"
          ]
        }
      ],
      "source": [
        "# Your code goes here\n",
        "\n",
        "# Solution\n",
        "\n",
        "def find_vowels(str):\n",
        "    vowels = \"aeiou\"\n",
        "    len_str = len(str)\n",
        "    count = 0\n",
        "\n",
        "    for i in range(len_str):\n",
        "        if str[i] in vowels:\n",
        "            count += 1\n",
        "    \n",
        "    return count\n",
        "\n",
        "# Tests:\n",
        "\n",
        "def test_find_vowels(str, expected_output):\n",
        "    result = find_vowels(str)\n",
        "\n",
        "    return result == expected_output\n",
        "\n",
        "def first_test():\n",
        "    str = \"asefigohu\"\n",
        "    expect = 5\n",
        "\n",
        "    return test_find_vowels(str, expect)\n",
        "\n",
        "def second_test():\n",
        "    str = \"fffffaaaghghgh j\"\n",
        "    expect = 3\n",
        "\n",
        "    return test_find_vowels(str, expect)\n",
        "\n",
        "def third_test():\n",
        "    str = \"abnmehhikolpoujjjjjjcdxa\"\n",
        "    expect = 7\n",
        "\n",
        "    return test_find_vowels(str, expect)\n",
        "\n",
        "# Testing:\n",
        "\n",
        "print(first_test())\n",
        "print(second_test())\n",
        "print(third_test())\n",
        "\n"
      ]
    },
    {
      "cell_type": "markdown",
      "metadata": {
        "id": "t2ClV_Y0bbr6"
      },
      "source": [
        "# Задача 2\n",
        "Написать функцию на вход, которой подается строка. Функция должна вернуть true, если\n",
        "каждый символ в строке встречается только 1 раз, иначе должна вернуть false. Написать тесты для кода"
      ]
    },
    {
      "cell_type": "code",
      "execution_count": 7,
      "metadata": {
        "id": "FppbECao6VIz"
      },
      "outputs": [
        {
          "name": "stdout",
          "output_type": "stream",
          "text": [
            "True\n",
            "True\n",
            "True\n"
          ]
        }
      ],
      "source": [
        "# Your code goes here\n",
        "\n",
        "# Solution\n",
        "\n",
        "def is_set_str(str):\n",
        "    set_str = set(str)\n",
        "\n",
        "    return len(str) == len(set_str)\n",
        "\n",
        "# Tests\n",
        "\n",
        "def test_is_set_str(str, expect):\n",
        "    result = is_set_str(str)\n",
        "\n",
        "    return expect == result\n",
        "\n",
        "def first_test():\n",
        "    str = \"abc\"\n",
        "    expect = True\n",
        "    return test_is_set_str(str, expect)\n",
        "\n",
        "def second_test():\n",
        "    str = \"abcc\"\n",
        "    expect = False\n",
        "    return test_is_set_str(str, expect)\n",
        "\n",
        "def third_test():\n",
        "    str = \"grom\"\n",
        "    expect = True\n",
        "    return test_is_set_str(str, expect)\n",
        "\n",
        "# Testing functions\n",
        "\n",
        "print(first_test())\n",
        "print(second_test())\n",
        "print(third_test())"
      ]
    },
    {
      "cell_type": "markdown",
      "metadata": {
        "id": "udRiIK1cdt6E"
      },
      "source": [
        "# Задача 3\n",
        "Написать функцию, которая принимает положительное число и возвращает количество\n",
        "бит равных 1 в этом числе. Написать тесты для кода"
      ]
    },
    {
      "cell_type": "code",
      "execution_count": 11,
      "metadata": {
        "id": "6tkfDJRz6dp_"
      },
      "outputs": [
        {
          "name": "stdout",
          "output_type": "stream",
          "text": [
            "True\n",
            "True\n",
            "True\n"
          ]
        }
      ],
      "source": [
        "# Your code goes here\n",
        "\n",
        "def calculate_bits(number):\n",
        "    bin_number = bin(number)\n",
        "\n",
        "    return bin_number.count(\"1\")\n",
        "\n",
        "# Tests\n",
        "\n",
        "def test_calculate_bits(number, expected):\n",
        "    return calculate_bits(number) == expected\n",
        "\n",
        "def first_test():\n",
        "    number = 16\n",
        "    expect = 1\n",
        "\n",
        "    return test_calculate_bits(number, expect)\n",
        "\n",
        "def second_test_test():\n",
        "    number = 17\n",
        "    expect = 2\n",
        "\n",
        "    return test_calculate_bits(number, expect)\n",
        "\n",
        "def third_test():\n",
        "    number = 7\n",
        "    expect = 3\n",
        "\n",
        "    return test_calculate_bits(number, expect)\n",
        "\n",
        "# Testing \n",
        "\n",
        "print(first_test()) \n",
        "print(second_test()) \n",
        "print(third_test())"
      ]
    },
    {
      "cell_type": "markdown",
      "metadata": {
        "id": "26dDUz-Ae17N"
      },
      "source": [
        "# Задача 4\n",
        "Написать функцию, которая принимает положительное число. Функция должна вернуть то,\n",
        "сколько раз необходимо перемножать цифры числа или результат перемножения, чтобы\n",
        "получилось число состоящее из одной цифры.\n",
        "Например, для входного числа:\n",
        "· 39 функция должна вернуть 3, так как 3*9=27 => 2*7=14 => 1*4=4\n",
        "· 4 функция должна вернуть 0, так как число уже состоит из одной цифры\n",
        "· 999 функция должна вернуть 4, так как 9*9*9=729 => 7*2*9=126 => 1*2*6=12 =>\n",
        "1*2=2. Написать тесты для кода"
      ]
    },
    {
      "cell_type": "code",
      "execution_count": 24,
      "metadata": {
        "id": "BH1A_Mgi6i4G"
      },
      "outputs": [
        {
          "name": "stdout",
          "output_type": "stream",
          "text": [
            "True\n",
            "True\n",
            "True\n"
          ]
        }
      ],
      "source": [
        "# Solution\n",
        "\n",
        "def magic(n):\n",
        "    temp = n\n",
        "    count = 0\n",
        "\n",
        "    while len(str(temp)) != 1:\n",
        "        mult = 1\n",
        "        for s in str(temp):\n",
        "            mult *= int(s)\n",
        "        count += 1\n",
        "        temp = mult\n",
        "    \n",
        "    return count\n",
        "\n",
        "# Tests\n",
        "\n",
        "def test_magic(number, expect):\n",
        "    return magic(number) == expect\n",
        "\n",
        "def first_test():\n",
        "    number = 39\n",
        "    expect = 3\n",
        "\n",
        "    return test_magic(number, expect)\n",
        "\n",
        "def second_test():\n",
        "    number = 4\n",
        "    expect = 0\n",
        "\n",
        "    return test_magic(number, expect)\n",
        "\n",
        "def third_test():\n",
        "    number = 999\n",
        "    expect = 4\n",
        "\n",
        "    return test_magic(number, expect)\n",
        "\n",
        "# Testing\n",
        "\n",
        "print(first_test())\n",
        "print(second_test())\n",
        "print(third_test())        "
      ]
    },
    {
      "cell_type": "markdown",
      "metadata": {
        "id": "0nS-kIa8g8vd"
      },
      "source": [
        "# Задача 5\n",
        "Написать функцию, которая принимает два целочисленных вектора одинаковой длины и\n",
        "возвращает среднеквадратическое отклонение двух векторов. Написать тесты для кода"
      ]
    },
    {
      "cell_type": "code",
      "execution_count": 8,
      "metadata": {
        "id": "8iphx4LM6xbx"
      },
      "outputs": [
        {
          "name": "stdout",
          "output_type": "stream",
          "text": [
            "True\n"
          ]
        }
      ],
      "source": [
        "import numpy as np\n",
        "\n",
        "def mse(first, second):\n",
        "    res_mse = np.square(np.subtract(first, second)).mean()\n",
        "\n",
        "    return res_mse\n",
        "\n",
        "def test_mse(first, second, expect):\n",
        "    return mse(first, second) == expect\n",
        "\n",
        "def first_test():\n",
        "    first = [12, 13, 14, 15, 15, 22, 27]\n",
        "    second = [11, 13, 14, 14, 15, 16, 18]\n",
        "    expected = 17\n",
        "\n",
        "    return test_mse(first, second, expected)\n",
        "\n",
        "print(first_test())"
      ]
    },
    {
      "cell_type": "markdown",
      "metadata": {
        "id": "vpIPKL439zkw"
      },
      "source": [
        "# Задача 6\n",
        "Написать функцию, принимающая целое положительное число. Функция должна вернуть\n",
        "строку вида “(n1**p1)(n2**p2)…(nk**pk)” представляющая разложение числа на простые\n",
        "множители (если pi == 1, то выводить только ni).\n",
        "Например, для числа 86240 функция должна вернуть “(2**5)(5)(7**2)(11)”. Написать тесты для кода"
      ]
    },
    {
      "cell_type": "code",
      "execution_count": 37,
      "metadata": {
        "id": "pFebmcZk94Jw"
      },
      "outputs": [
        {
          "name": "stdout",
          "output_type": "stream",
          "text": [
            "True\n",
            "True\n",
            "True\n"
          ]
        }
      ],
      "source": [
        "# Your code goes here\n",
        "\n",
        "# Solution\n",
        "\n",
        "def get_prime_multipliers(number):\n",
        "    k = 2\n",
        "    primes = []\n",
        "    while k**2 <= number:\n",
        "        while number % k == 0:\n",
        "            primes.append(k)\n",
        "            number /= k\n",
        "        k += 1\n",
        "    if number > 1:\n",
        "        primes.append(number)\n",
        "\n",
        "    return primes\n",
        "\n",
        "# Tests\n",
        "\n",
        "def test_get_prime_multipliers(number, expected):\n",
        "    return get_prime_multipliers(number) == expected\n",
        "\n",
        "def first_test():\n",
        "    number = 86240\n",
        "    expected = [2, 2, 2, 2 ,2 , 5, 7, 7, 11]\n",
        "\n",
        "    return test_get_prime_multipliers(number, expected)\n",
        "\n",
        "def second_test():\n",
        "    number = 20\n",
        "    expected = [2, 2, 5]\n",
        "\n",
        "    return test_get_prime_multipliers(number, expected)\n",
        "\n",
        "def third_test_test():\n",
        "    number = 99\n",
        "    expected = [3, 11, 3]\n",
        "\n",
        "    return test_get_prime_multipliers(number, expected)\n",
        "\n",
        "# Testing\n",
        "\n",
        "print(first_test())\n",
        "print(second_test())\n",
        "print(third_test())"
      ]
    },
    {
      "cell_type": "markdown",
      "metadata": {
        "id": "ps2s0BudX7A2"
      },
      "source": [
        "# Задача 7\n",
        "Написать функцию, принимающая целое число n, задающее количество кубиков. Функция\n",
        "должна определить, можно ли из данного кол-ва кубиков построить пирамиду, то есть\n",
        "можно ли представить число n как 1^2+2^2+3^2+…+k^2. Если можно, то функция должна\n",
        "вернуть k, иначе строку “It is impossible”. Написать тесты для кода"
      ]
    },
    {
      "cell_type": "code",
      "execution_count": 12,
      "metadata": {
        "id": "3YPjEXxhX_YT"
      },
      "outputs": [
        {
          "name": "stdout",
          "output_type": "stream",
          "text": [
            "True\n",
            "True\n",
            "True\n"
          ]
        }
      ],
      "source": [
        "# Solution\n",
        "\n",
        "def pyramid(number):\n",
        "    k = 0\n",
        "    sum_k = 0\n",
        "\n",
        "    while sum_k < number:\n",
        "        k += 1\n",
        "        sum_k += k**2\n",
        "        \n",
        "    \n",
        "    if sum_k == number:\n",
        "        return k\n",
        "    return \"It is impossible\"\n",
        "\n",
        "# Tests\n",
        "\n",
        "def test_pyramid(number, expected):\n",
        "    return pyramid(number) == expected\n",
        "\n",
        "def first_test():\n",
        "    number = 14\n",
        "    expected = 3\n",
        "\n",
        "    return test_pyramid(number, expected)\n",
        "\n",
        "def second_test():\n",
        "    number = 11\n",
        "    expected = \"It is impossible\"\n",
        "\n",
        "    return test_pyramid(number, expected)\n",
        "\n",
        "def third_test():\n",
        "    number = 55\n",
        "    expected = 5\n",
        "\n",
        "    return test_pyramid(number, expected)\n",
        "\n",
        "# Testing\n",
        "\n",
        "print(first_test())\n",
        "print(second_test())\n",
        "print(third_test())"
      ]
    },
    {
      "cell_type": "markdown",
      "metadata": {
        "id": "KeKgmIdAQMEJ"
      },
      "source": [
        "# Задача 8\n",
        "Функция принимает на вход положительное число и определяет является ли оно сбалансированным, т.е. сумма цифр до средних равна сумме цифр после. Средними в случае нечетного числа цифр считать одну цифру, в случае четного - две средних. Написать тесты для кода"
      ]
    },
    {
      "cell_type": "code",
      "execution_count": 26,
      "metadata": {
        "id": "gMAAqtqlQrZt"
      },
      "outputs": [
        {
          "name": "stdout",
          "output_type": "stream",
          "text": [
            "True\n",
            "True\n",
            "True\n"
          ]
        }
      ],
      "source": [
        "# Your code goes here\n",
        "\n",
        "# Solution\n",
        "\n",
        "def is_balanced_number(number):\n",
        "    str_number = str(number)\n",
        "    len_str_number = len(str_number)\n",
        "\n",
        "    sum1 = 0\n",
        "    sum2 = 0\n",
        "\n",
        "    if len_str_number % 2 == 0:\n",
        "        for i in range(len_str_number // 2 - 1):\n",
        "            sum1 += int(str_number[i])\n",
        "        \n",
        "        for i in range(len_str_number // 2 + 1, len_str_number):\n",
        "            sum2 += int(str_number[i])\n",
        "        if sum1 == sum2:\n",
        "            return True\n",
        "    else:\n",
        "        for i in range(len_str_number // 2):\n",
        "            sum1 += int(str_number[i])\n",
        "        \n",
        "        for i in range(len_str_number // 2 + 1, len_str_number):\n",
        "            sum2 += int(str_number[i])\n",
        "        if sum1 == sum2:\n",
        "            return True\n",
        "    return False\n",
        "\n",
        "# Tests\n",
        "\n",
        "def test_is_balanced_number(number, expected):\n",
        "    return is_balanced_number(number) == expected\n",
        "\n",
        "def first_test():\n",
        "    number = 11111\n",
        "    expected = True\n",
        "\n",
        "    return test_is_balanced_number(number, expected)\n",
        "\n",
        "def second_test():\n",
        "    number = 11114\n",
        "    expected = False\n",
        "\n",
        "    return test_is_balanced_number(number, expected)\n",
        "\n",
        "def third_test():\n",
        "    number = 172584\n",
        "    expected = False\n",
        "\n",
        "    return test_is_balanced_number(number, expected)\n",
        "\n",
        "# Testing\n",
        "\n",
        "print(first_test())\n",
        "print(second_test())\n",
        "print(third_test())"
      ]
    }
  ],
  "metadata": {
    "colab": {
      "provenance": []
    },
    "kernelspec": {
      "display_name": "Python 3",
      "name": "python3"
    },
    "language_info": {
      "codemirror_mode": {
        "name": "ipython",
        "version": 3
      },
      "file_extension": ".py",
      "mimetype": "text/x-python",
      "name": "python",
      "nbconvert_exporter": "python",
      "pygments_lexer": "ipython3",
      "version": "3.10.6"
    }
  },
  "nbformat": 4,
  "nbformat_minor": 0
}
